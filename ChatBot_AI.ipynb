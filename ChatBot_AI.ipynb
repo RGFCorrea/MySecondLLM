{
  "nbformat": 4,
  "nbformat_minor": 0,
  "metadata": {
    "colab": {
      "provenance": [],
      "authorship_tag": "ABX9TyO/aGREOmnd28lDe7nOgHhY",
      "include_colab_link": true
    },
    "kernelspec": {
      "name": "python3",
      "display_name": "Python 3"
    },
    "language_info": {
      "name": "python"
    }
  },
  "cells": [
    {
      "cell_type": "markdown",
      "metadata": {
        "id": "view-in-github",
        "colab_type": "text"
      },
      "source": [
        "<a href=\"https://colab.research.google.com/github/RGFCorrea/MySecondLLM/blob/main/ChatBot_AI.ipynb\" target=\"_parent\"><img src=\"https://colab.research.google.com/assets/colab-badge.svg\" alt=\"Open In Colab\"/></a>"
      ]
    },
    {
      "cell_type": "markdown",
      "source": [
        "Instalando SDK"
      ],
      "metadata": {
        "id": "fCAeNOx9h1Bk"
      }
    },
    {
      "cell_type": "code",
      "execution_count": 4,
      "metadata": {
        "id": "T0MgJ30ShvcX"
      },
      "outputs": [],
      "source": [
        "!pip install -q -U google-generativeai"
      ]
    },
    {
      "cell_type": "markdown",
      "source": [],
      "metadata": {
        "id": "GLeOFQ9EhxUS"
      }
    },
    {
      "cell_type": "code",
      "source": [
        "import google.generativeai as genai\n",
        "# Used to securely store your API key\n",
        "from google.colab import userdata\n",
        "api_key = userdata.get('Secret_Key')\n",
        "# antes era esse código: GOOGLE_API_KEY=\"AIzaSPkblu1DpWrQ\"\n",
        "genai.configure(api_key=api_key)"
      ],
      "metadata": {
        "id": "Lop7YY5TiCji"
      },
      "execution_count": 5,
      "outputs": []
    },
    {
      "cell_type": "markdown",
      "source": [
        "Listar os modelos disponíveis"
      ],
      "metadata": {
        "id": "6xLNOxYliNun"
      }
    },
    {
      "cell_type": "code",
      "source": [
        "for m in genai.list_models():\n",
        "  if 'generateContent' in m.supported_generation_methods:\n",
        "    print(m.name)"
      ],
      "metadata": {
        "colab": {
          "base_uri": "https://localhost:8080/",
          "height": 139
        },
        "id": "3p1x8e8TiMa5",
        "outputId": "d5d73868-cbe6-40c2-f030-fda1c0a99c48"
      },
      "execution_count": 6,
      "outputs": [
        {
          "output_type": "stream",
          "name": "stdout",
          "text": [
            "models/gemini-1.0-pro\n",
            "models/gemini-1.0-pro-001\n",
            "models/gemini-1.0-pro-latest\n",
            "models/gemini-1.0-pro-vision-latest\n",
            "models/gemini-1.5-pro-latest\n",
            "models/gemini-pro\n",
            "models/gemini-pro-vision\n"
          ]
        }
      ]
    },
    {
      "cell_type": "code",
      "source": [
        "generation_confi={\n",
        "    \"candidate_count\":1,\n",
        "    \"temperature\": 0.5\n",
        "}"
      ],
      "metadata": {
        "id": "wSHx4ZS3iLZs"
      },
      "execution_count": 7,
      "outputs": []
    },
    {
      "cell_type": "markdown",
      "source": [
        "Configuração de segurança:"
      ],
      "metadata": {
        "id": "lZW7hLzcmBe1"
      }
    },
    {
      "cell_type": "code",
      "source": [
        "safety_settings={\n",
        "    \"harassment\": \"block_none\",\n",
        "    \"hate\": \"BLOCK_NONE\",\n",
        "    \"SEXUAL\": \"BLOCK_NONE\",\n",
        "    \"DANGEROUS\": \"BLOCK_NONE\"\n",
        "}"
      ],
      "metadata": {
        "id": "Ev2KcDTylDM2"
      },
      "execution_count": 8,
      "outputs": []
    },
    {
      "cell_type": "markdown",
      "source": [
        "Inicializando o modelo"
      ],
      "metadata": {
        "id": "krEDNKpdnELx"
      }
    },
    {
      "cell_type": "code",
      "source": [
        "model= genai.GenerativeModel(model_name=\"gemini-1.0-pro\",\n",
        "                             generation_config=generation_confi,\n",
        "                             safety_settings=safety_settings)"
      ],
      "metadata": {
        "id": "fO9XQpu4lpsF"
      },
      "execution_count": 9,
      "outputs": []
    },
    {
      "cell_type": "code",
      "source": [
        "response = model.generate_content(\"faça um poema em português, mas com algumas palavras em alemão\")\n",
        "print(response.text)"
      ],
      "metadata": {
        "colab": {
          "base_uri": "https://localhost:8080/",
          "height": 468
        },
        "id": "vpcXq1SvnRZn",
        "outputId": "433b42bd-3df8-4d15-d4f6-19a15c7cd576"
      },
      "execution_count": 10,
      "outputs": [
        {
          "output_type": "stream",
          "name": "stdout",
          "text": [
            "**Sehnsucht**\n",
            "\n",
            "Nostalgia, um anseio profundo,\n",
            "Ein Schmerz, que guarda o mundo.\n",
            "Um sentimento de perda, um vazio,\n",
            "Eine Leere, que não tem alívio.\n",
            "\n",
            "Como um pássaro preso em uma gaiola,\n",
            "Ich sehne mich nach Freiheit, sem falha.\n",
            "Um desejo de lar, de um lugar conhecido,\n",
            "Ein Zuhause, onde meu coração se sente unido.\n",
            "\n",
            "Para os braços do passado, eu anseio,\n",
            "Für die Zeiten, quando a felicidade era meu anseio.\n",
            "Para os dias de juventude, despreocupados e livres,\n",
            "Wo ich lebte, sem preocupações ou arrependimentos.\n",
            "\n",
            "Mas o tempo passa, e as coisas mudam,\n",
            "Und die Vergangenheit, ela se afasta.\n",
            "Deixando apenas memórias, doces e amargas,\n",
            "Eine Sehnsucht, que meu coração carrega.\n",
            "\n",
            "Então, eu anseio, com um coração pesado,\n",
            "Für das, que foi perdido, para sempre enterrado.\n",
            "Uma nostalgia que me assombra,\n",
            "Ein Schmerz, que nunca desaparece.\n"
          ]
        }
      ]
    },
    {
      "cell_type": "code",
      "source": [
        "chat = model.start_chat(history=[])"
      ],
      "metadata": {
        "id": "OGUrr5o-nVic"
      },
      "execution_count": 11,
      "outputs": []
    },
    {
      "cell_type": "code",
      "source": [
        "prompt = input(\"Esperando prompt: \")\n",
        "\n",
        "while prompt != \"fim\":\n",
        "  response = chat.send_message(prompt)\n",
        "  print(\"Resposta: \", response.text, \"\\n\")\n",
        "  prompt = input(\"Esperando prompt: \")"
      ],
      "metadata": {
        "colab": {
          "base_uri": "https://localhost:8080/",
          "height": 382
        },
        "id": "TBqZKarQoBpt",
        "outputId": "456992cc-4d27-4d14-b8e5-34b4e74947cd"
      },
      "execution_count": 12,
      "outputs": [
        {
          "name": "stdout",
          "output_type": "stream",
          "text": [
            "Esperando prompt: qual é a tradução para a palavra Schmerz?\n",
            "Resposta:  Dor \n",
            "\n",
            "Esperando prompt: como se pronuncia essa palavra?\n",
            "Resposta:  **Pronúncia em alemão:**\n",
            "\n",
            "* **IPA:** [ʃmɛrts]\n",
            "* **Áudio:** [Arquivo de áudio]\n",
            "\n",
            "**Pronúncia aproximada em português:**\n",
            "\n",
            "* **Shmerts**\n",
            "\n",
            "**Dicas de pronúncia:**\n",
            "\n",
            "* O \"sch\" é pronunciado como o \"x\" em \"caixa\".\n",
            "* O \"e\" é pronunciado como o \"é\" em \"pé\".\n",
            "* O \"r\" é pronunciado com a ponta da língua tocando o céu da boca, como no português.\n",
            "* O \"z\" é pronunciado como o \"s\" em \"casa\". \n",
            "\n",
            "Esperando prompt: fim\n"
          ]
        }
      ]
    },
    {
      "cell_type": "code",
      "source": [
        "chat.history"
      ],
      "metadata": {
        "colab": {
          "base_uri": "https://localhost:8080/"
        },
        "id": "uYn_n945oOdk",
        "outputId": "dcc6610f-847c-41fc-e152-dc9a57899e93"
      },
      "execution_count": 14,
      "outputs": [
        {
          "output_type": "execute_result",
          "data": {
            "text/plain": [
              "[parts {\n",
              "   text: \"qual \\303\\251 a tradu\\303\\247\\303\\243o para a palavra Schmerz?\"\n",
              " }\n",
              " role: \"user\",\n",
              " parts {\n",
              "   text: \"Dor\"\n",
              " }\n",
              " role: \"model\",\n",
              " parts {\n",
              "   text: \"como se pronuncia essa palavra?\"\n",
              " }\n",
              " role: \"user\",\n",
              " parts {\n",
              "   text: \"**Pron\\303\\272ncia em alem\\303\\243o:**\\n\\n* **IPA:** [\\312\\203m\\311\\233rts]\\n* **\\303\\201udio:** [Arquivo de \\303\\241udio]\\n\\n**Pron\\303\\272ncia aproximada em portugu\\303\\252s:**\\n\\n* **Shmerts**\\n\\n**Dicas de pron\\303\\272ncia:**\\n\\n* O \\\"sch\\\" \\303\\251 pronunciado como o \\\"x\\\" em \\\"caixa\\\".\\n* O \\\"e\\\" \\303\\251 pronunciado como o \\\"\\303\\251\\\" em \\\"p\\303\\251\\\".\\n* O \\\"r\\\" \\303\\251 pronunciado com a ponta da l\\303\\255ngua tocando o c\\303\\251u da boca, como no portugu\\303\\252s.\\n* O \\\"z\\\" \\303\\251 pronunciado como o \\\"s\\\" em \\\"casa\\\".\"\n",
              " }\n",
              " role: \"model\"]"
            ]
          },
          "metadata": {},
          "execution_count": 14
        }
      ]
    },
    {
      "cell_type": "code",
      "source": [
        "# Melhorando a visualização\n",
        "# Código disponível em https://ai.google.dev/tutorials/python_quickstart#import_packages\n",
        "\n",
        "import textwrap\n",
        "from IPython.display import display\n",
        "from IPython.display import Markdown\n",
        "\n",
        "def to_markdown(text):\n",
        "  text = text.replace('*','  *')\n",
        "  return Markdown(textwrap.indent(text, '> ', predicate=lambda _: True))\n",
        "\n",
        "# Imprimindo o histórico\n",
        "for message in chat.history:\n",
        "  display(to_markdown(f\"**{message.role}:** {message.parts[0].text}\"))\n",
        "  print('------------------------------------------------')"
      ],
      "metadata": {
        "colab": {
          "base_uri": "https://localhost:8080/",
          "height": 478
        },
        "id": "DWNdKtxpkQmO",
        "outputId": "2638315e-2de2-4039-a35f-25676a26a321"
      },
      "execution_count": 15,
      "outputs": [
        {
          "output_type": "display_data",
          "data": {
            "text/plain": [
              "<IPython.core.display.Markdown object>"
            ],
            "text/markdown": ">   *  *user:  *  * qual é a tradução para a palavra Schmerz?"
          },
          "metadata": {}
        },
        {
          "output_type": "stream",
          "name": "stdout",
          "text": [
            "------------------------------------------------\n"
          ]
        },
        {
          "output_type": "display_data",
          "data": {
            "text/plain": [
              "<IPython.core.display.Markdown object>"
            ],
            "text/markdown": ">   *  *model:  *  * Dor"
          },
          "metadata": {}
        },
        {
          "output_type": "stream",
          "name": "stdout",
          "text": [
            "------------------------------------------------\n"
          ]
        },
        {
          "output_type": "display_data",
          "data": {
            "text/plain": [
              "<IPython.core.display.Markdown object>"
            ],
            "text/markdown": ">   *  *user:  *  * como se pronuncia essa palavra?"
          },
          "metadata": {}
        },
        {
          "output_type": "stream",
          "name": "stdout",
          "text": [
            "------------------------------------------------\n"
          ]
        },
        {
          "output_type": "display_data",
          "data": {
            "text/plain": [
              "<IPython.core.display.Markdown object>"
            ],
            "text/markdown": ">   *  *model:  *  *   *  *Pronúncia em alemão:  *  *\n> \n>   *   *  *IPA:  *  * [ʃmɛrts]\n>   *   *  *Áudio:  *  * [Arquivo de áudio]\n> \n>   *  *Pronúncia aproximada em português:  *  *\n> \n>   *   *  *Shmerts  *  *\n> \n>   *  *Dicas de pronúncia:  *  *\n> \n>   * O \"sch\" é pronunciado como o \"x\" em \"caixa\".\n>   * O \"e\" é pronunciado como o \"é\" em \"pé\".\n>   * O \"r\" é pronunciado com a ponta da língua tocando o céu da boca, como no português.\n>   * O \"z\" é pronunciado como o \"s\" em \"casa\"."
          },
          "metadata": {}
        },
        {
          "output_type": "stream",
          "name": "stdout",
          "text": [
            "------------------------------------------------\n"
          ]
        }
      ]
    }
  ]
}